{
 "cells": [
  {
   "cell_type": "markdown",
   "metadata": {},
   "source": [
    "# PTT 網路爬蟲實作練習\n",
    "\n",
    "\n",
    "* 能夠利用 Request + BeatifulSour 撰寫爬蟲，並存放到合適的資料結構\n"
   ]
  },
  {
   "cell_type": "code",
   "execution_count": 77,
   "metadata": {},
   "outputs": [],
   "source": [
    "# 把 PTT 爬蟲做成一個 function\n",
    "# 參數 boardName, getType=[new|all]\n",
    "\n",
    "import requests, json, re\n",
    "from bs4 import BeautifulSoup\n",
    "\n",
    "def getPttArticle(board_name, get_type='all'):\n",
    "    url = 'https://www.ptt.cc/bbs/' + board_name + '/index.html'\n",
    "    r = requests.get(url)\n",
    "    \n",
    "    soup = BeautifulSoup(r.text, \"html5lib\")\n",
    "    articleList = soup.find('div', class_='r-list-container action-bar-margin bbs-screen').find_all('div', class_='title')\n",
    "    pattern = re.compile('^\\[公告\\]')\n",
    "    \n",
    "    \n",
    "    for article in articleList:\n",
    "        if article.find('a'):\n",
    "            title = article.find('a').text\n",
    "            author = article.parent.find('div', class_='author').text\n",
    "            date =  article.parent.find('div', class_='date').text\n",
    "            \n",
    "            \n",
    "            if get_type=='new' and re.match(pattern, str(title)):\n",
    "                break\n",
    "\n",
    "            print(('{}\\n{:-<38}{}').format(title, author, date))\n",
    "        else:\n",
    "            title = article.text.strip()\n",
    "            print(title)"
   ]
  },
  {
   "cell_type": "markdown",
   "metadata": {},
   "source": [
    "## 作業目標\n",
    "\n",
    "根據範例 ，完成以下問題：\n",
    "\n",
    "* ① 印出最新文章的「作者」「標題」「時間」\n",
    "* ② 印出第一頁所有文章的「作者」「標題」「時間」\n"
   ]
  },
  {
   "cell_type": "markdown",
   "metadata": {},
   "source": [
    "### ① 印出最新文章的「作者」「標題」「時間」"
   ]
  },
  {
   "cell_type": "code",
   "execution_count": 80,
   "metadata": {},
   "outputs": [
    {
     "name": "stdout",
     "output_type": "stream",
     "text": [
      "[情報]  Lamarcus Aldridge本季不會再出賽\n",
      "hyw3125------------------------------- 6/09\n",
      "[花邊] Noah:除了快艇其他隊不值得我付出那麼多\n",
      "whoAU--------------------------------- 6/09\n",
      "[討論] 當年Danny Granger 為什麼瞬間就不行了\n",
      "MayBeSoft----------------------------- 6/09\n",
      "[花邊] PG要賣洛杉磯Hidden Hills豪宅949.5萬鎂\n",
      "pneumo-------------------------------- 6/09\n",
      "[新聞] 馬刺高塔停賽默默動刀！ 復賽之際突宣告\n",
      "Bruce--------------------------------- 6/09\n",
      "[情報] Klay Thompson行蹤神祕 GM:不知他好了沒\n",
      "ckny---------------------------------- 6/09\n",
      "[專欄] Iverson 10年內能拿Reebok合約的3200萬美\n",
      "ckny---------------------------------- 6/09\n",
      "Re: [討論] 巔峰歐尼爾搭配誰就可以冠軍\n",
      "lwy012018----------------------------- 6/09\n",
      "[花邊] 瓦妮莎向直升機公司索賠數億美元經濟損\n",
      "KyrieIrving1-------------------------- 6/09\n",
      "[情報] 豪洨肯尼 Kenny 2019-20 NBA第一隊陣容\n",
      "chengy-------------------------------- 6/09\n",
      "[情報] ESPN2023屆高中生排行：布朗尼第24\n",
      "ghost069------------------------------ 6/09\n",
      "[情報] 2005TODAY\n",
      "Ivers--------------------------------- 6/09\n",
      "[花邊] 憂兒成警方歧視受害者 歐尼爾傳授保命要領\n",
      "zaxs---------------------------------- 6/09\n",
      "(本文已被刪除) [SupHateSpurs]\n",
      "[討論] 球星在總決賽關鍵時刻的得分效率\n",
      "HOlajuwon----------------------------- 6/09\n",
      "[情報] 熱火隊對於DeMarcus Cousins有興趣\n",
      "thnlkj0665---------------------------- 6/09\n",
      "[新聞]「甜瓜」安東尼對復賽「百感交集」對疫情\n",
      "go190214------------------------------ 6/09\n",
      "[花邊] Perkins:騎士2.0的詹皇最具觀賞性\n",
      "ghost069------------------------------ 6/09\n",
      "[新聞] 自信金塊化學效應佳 穆雷：打法奔放隊友\n",
      "Gotham-------------------------------- 6/09\n"
     ]
    }
   ],
   "source": [
    "getPttArticle('NBA','new')"
   ]
  },
  {
   "cell_type": "markdown",
   "metadata": {},
   "source": [
    "### ② 印出第一頁所有文章的「作者」「標題」「時間」"
   ]
  },
  {
   "cell_type": "code",
   "execution_count": 82,
   "metadata": {},
   "outputs": [
    {
     "name": "stdout",
     "output_type": "stream",
     "text": [
      "[情報]  Lamarcus Aldridge本季不會再出賽\n",
      "hyw3125------------------------------- 6/09\n",
      "[花邊] Noah:除了快艇其他隊不值得我付出那麼多\n",
      "whoAU--------------------------------- 6/09\n",
      "[討論] 當年Danny Granger 為什麼瞬間就不行了\n",
      "MayBeSoft----------------------------- 6/09\n",
      "[花邊] PG要賣洛杉磯Hidden Hills豪宅949.5萬鎂\n",
      "pneumo-------------------------------- 6/09\n",
      "[新聞] 馬刺高塔停賽默默動刀！ 復賽之際突宣告\n",
      "Bruce--------------------------------- 6/09\n",
      "[情報] Klay Thompson行蹤神祕 GM:不知他好了沒\n",
      "ckny---------------------------------- 6/09\n",
      "[專欄] Iverson 10年內能拿Reebok合約的3200萬美\n",
      "ckny---------------------------------- 6/09\n",
      "Re: [討論] 巔峰歐尼爾搭配誰就可以冠軍\n",
      "lwy012018----------------------------- 6/09\n",
      "[花邊] 瓦妮莎向直升機公司索賠數億美元經濟損\n",
      "KyrieIrving1-------------------------- 6/09\n",
      "[情報] 豪洨肯尼 Kenny 2019-20 NBA第一隊陣容\n",
      "chengy-------------------------------- 6/09\n",
      "[情報] ESPN2023屆高中生排行：布朗尼第24\n",
      "ghost069------------------------------ 6/09\n",
      "[情報] 2005TODAY\n",
      "Ivers--------------------------------- 6/09\n",
      "[花邊] 憂兒成警方歧視受害者 歐尼爾傳授保命要領\n",
      "zaxs---------------------------------- 6/09\n",
      "(本文已被刪除) [SupHateSpurs]\n",
      "[討論] 球星在總決賽關鍵時刻的得分效率\n",
      "HOlajuwon----------------------------- 6/09\n",
      "[情報] 熱火隊對於DeMarcus Cousins有興趣\n",
      "thnlkj0665---------------------------- 6/09\n",
      "[新聞]「甜瓜」安東尼對復賽「百感交集」對疫情\n",
      "go190214------------------------------ 6/09\n",
      "[花邊] Perkins:騎士2.0的詹皇最具觀賞性\n",
      "ghost069------------------------------ 6/09\n",
      "[新聞] 自信金塊化學效應佳 穆雷：打法奔放隊友\n",
      "Gotham-------------------------------- 6/09\n",
      "[公告] 板規v6.8\n",
      "Vedan--------------------------------- 5/24\n",
      "[公告] 版主上任相關事項 \n",
      "qazwsx879345--------------------------10/25\n",
      "[情報] SEASON Schedule 賽程 March 19–20\n",
      "Acetoxy------------------------------- 3/02\n",
      "[公告] 第一次被退文，可在三天後刪除退文\n",
      "Vedan--------------------------------- 3/09\n",
      "[公告] 板務說明 (發錢)\n",
      "Vedan--------------------------------- 4/03\n"
     ]
    }
   ],
   "source": [
    "getPttArticle('NBA','all')"
   ]
  },
  {
   "cell_type": "markdown",
   "metadata": {},
   "source": [
    "### ③ 試著爬爬看其他版的文章"
   ]
  },
  {
   "cell_type": "markdown",
   "metadata": {},
   "source": [
    "## SOHO\n",
    "https://www.ptt.cc/bbs/soho/index.html"
   ]
  },
  {
   "cell_type": "code",
   "execution_count": 84,
   "metadata": {},
   "outputs": [
    {
     "name": "stdout",
     "output_type": "stream",
     "text": [
      "[自介] 全新特斯拉包車服務\n",
      "NightDolphin-------------------------- 6/08\n",
      "Re: [徵才] 徵求新聞影音剪輯後製\n",
      "ooxxleo------------------------------- 6/08\n",
      "[徵才] 已徵得\n",
      "liehfeng------------------------------ 6/08\n",
      "[徵才] 台北電腦重灌工程師\n",
      "ephlin99------------------------------ 6/08\n",
      "Re: [徵才] 台北到府孕婦寫真\n",
      "capricorn----------------------------- 6/08\n",
      "[徵才] 繪製人物(漫畫風)\n",
      "cdrom58------------------------------- 6/08\n",
      "[徵才] 影片剪輯\n",
      "damaishin----------------------------- 6/08\n",
      "[自介] 去背修圖/商品圖文banner\n",
      "fever200977--------------------------- 6/09\n",
      "[徵才] 徵部落客或IG或Facebook經營者幫推廣文章(已徵到)\n",
      "appworker----------------------------- 6/09\n",
      "Re: [問題] 請教YT影片剪輯的預算\n",
      "tptt---------------------------------- 6/09\n"
     ]
    }
   ],
   "source": [
    "getPttArticle('soho','new')"
   ]
  },
  {
   "cell_type": "markdown",
   "metadata": {},
   "source": [
    "## 南港\n",
    "https://www.ptt.cc/bbs/Nangang/index.html"
   ]
  },
  {
   "cell_type": "code",
   "execution_count": 85,
   "metadata": {},
   "outputs": [
    {
     "name": "stdout",
     "output_type": "stream",
     "text": [
      "不只服務南港的南港冷氣林先生\n",
      "ChaosCreator-------------------------- 6/02\n",
      "[請益] 南港後山埤永春一帶有紗門業者嗎？\n",
      "conny1-------------------------------- 6/02\n",
      "[新聞] 基隆河自行車道 基隆直通南港了！ \n",
      "tsd----------------------------------- 6/04\n",
      "[請益] 玉成街176巷裡面在賣什麼？\n",
      "duckling321--------------------------- 6/04\n",
      "[情報] 昇恆昌特賣會 中信園區C棟3樓美食街旁\n",
      "TW00500203---------------------------- 6/05\n",
      "(本文已被刪除) [calpisiruka]\n",
      "[請益]  南港路上的魁拉麵？\n",
      "whatsup1989--------------------------- 6/07\n",
      "[新聞] 每周逾5名青少年因機車事故送命！警入校園宣導阻悲劇\n",
      "B0858B-------------------------------- 6/07\n",
      "[請益] 玉成街附近好吃的居酒屋\n",
      "juijuibaby---------------------------- 6/08\n",
      "[生活] 藍貓走失？\n",
      "wingycat------------------------------ 6/09\n",
      "[請益] 研究院附近推薦Yamaha 機車店\n",
      "tiffanyshu86-------------------------- 6/09\n",
      "(本文已被刪除) [vnloya]\n",
      "[請益] 舊莊、研究院一帶推薦修鞋店？\n",
      "ru832k7------------------------------- 6/09\n",
      "Fw: [公告] 重申嚴禁交易法律/法令禁止之財貨/服務\n",
      "pdca---------------------------------- 1/19\n"
     ]
    }
   ],
   "source": [
    "getPttArticle('Nangang','new')"
   ]
  },
  {
   "cell_type": "markdown",
   "metadata": {},
   "source": [
    "## 充電\n",
    "https://www.ptt.cc/bbs/Refresh/index.html"
   ]
  },
  {
   "cell_type": "code",
   "execution_count": 86,
   "metadata": {},
   "outputs": [
    {
     "name": "stdout",
     "output_type": "stream",
     "text": [
      "[南區] 6/5肩背包製作，高雄駁二M.ZONE縫紉課程\n",
      "balabo910----------------------------- 6/01\n",
      "[全省] 6/2直播！未來AI將成為客製的人生導師？\n",
      "Yichennnnn---------------------------- 6/01\n",
      "[南區] 6/13 此課開始，贏戰面試\n",
      "breakup------------------------------- 6/02\n",
      "[北區] 2021美國留學新趨勢 條件式入學免費講座\n",
      "yellowhsu----------------------------- 6/04\n",
      "[台北]CLBC創育加速計畫 如何申請創業補助講座 \n",
      "namchu-------------------------------- 6/04\n",
      "[證照] 6月 托福課程公開試聽-搶先免費試聽！\n",
      "terryken------------------------------ 6/05\n",
      "[北區]亞利桑那州立大學商學院線上說明會!\n",
      "terryken------------------------------ 6/08\n",
      "[情報] 草屯-烘焙食品班(政府補助)-免費上課 \n",
      "shaioyu1202--------------------------- 6/09\n",
      "[北區] 中山社大超值的暑期班課程6堂1000元!\n",
      "yw2017-------------------------------- 6/09\n",
      "[北區] 讓愛不抽筋讀書會-《情緒靈敏力》\n",
      "franran------------------------------- 6/09\n",
      "[北區]\"圖像授權講座\"讓創作IP化帶來長期收入\n",
      "a959254------------------------------- 6/09\n"
     ]
    }
   ],
   "source": [
    "getPttArticle('Refresh','new')"
   ]
  },
  {
   "cell_type": "code",
   "execution_count": null,
   "metadata": {},
   "outputs": [],
   "source": []
  }
 ],
 "metadata": {
  "kernelspec": {
   "display_name": "Python 3",
   "language": "python",
   "name": "python3"
  },
  "language_info": {
   "codemirror_mode": {
    "name": "ipython",
    "version": 3
   },
   "file_extension": ".py",
   "mimetype": "text/x-python",
   "name": "python",
   "nbconvert_exporter": "python",
   "pygments_lexer": "ipython3",
   "version": "3.6.8"
  }
 },
 "nbformat": 4,
 "nbformat_minor": 2
}
