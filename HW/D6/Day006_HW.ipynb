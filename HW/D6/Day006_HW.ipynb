{
 "cells": [
  {
   "cell_type": "markdown",
   "metadata": {},
   "source": [
    "# API 資料串接 - 以 知乎 API 實作範例\n",
    "\n",
    "\n",
    "\n",
    "* 了解知乎 API 使用方式與回傳內容\n",
    "* 撰寫程式存取 API 且添加標頭\n",
    "\n",
    "\n"
   ]
  },
  {
   "cell_type": "markdown",
   "metadata": {},
   "source": [
    "## 作業目標\n",
    "\n",
    "* 根據範例提供的 API ，完成以下問題：\n",
    "\n",
    "    1. 取出知乎問題發問時間\n",
    "    2. 取出第一筆與最後一筆回答的時間\n"
   ]
  },
  {
   "cell_type": "markdown",
   "metadata": {},
   "source": [
    "### 1. 取出知乎問題發問時間"
   ]
  },
  {
   "cell_type": "code",
   "execution_count": 19,
   "metadata": {},
   "outputs": [
    {
     "name": "stdout",
     "output_type": "stream",
     "text": [
      "發問時間 : 2019-04-01 02:17:08\n",
      "發問時間 : 2019-05-14 09:00:12\n",
      "發問時間 : 2020-03-26 13:04:14\n",
      "發問時間 : 2017-05-02 02:45:13\n",
      "發問時間 : 2019-10-29 03:07:06\n"
     ]
    }
   ],
   "source": [
    "import requests, json\n",
    "from datetime import datetime\n",
    "\n",
    "# 1. 取出知乎問題發問時間\n",
    "headers = {'user-agent': 'my-app/0.0.1'}\n",
    "r = requests.get('https://www.zhihu.com/api/v4/questions/55493026/answers',headers=headers)\n",
    "response = r.text\n",
    "\n",
    "data = [json.loads(response)][0]['data']\n",
    "\n",
    "for d in data:\n",
    "    # conver unix timestamp \n",
    "    print('發問時間 : ' + datetime.utcfromtimestamp(d['created_time']).strftime('%Y-%m-%d %H:%M:%S'))"
   ]
  },
  {
   "cell_type": "markdown",
   "metadata": {},
   "source": [
    "### 2. 取出第一筆與最後一筆回答的時間"
   ]
  },
  {
   "cell_type": "code",
   "execution_count": 24,
   "metadata": {},
   "outputs": [
    {
     "name": "stdout",
     "output_type": "stream",
     "text": [
      "第一筆 發問時間 : 2019-04-01 02:17:08\n",
      "最後一筆 發問時間 : 2019-10-29 03:07:06\n"
     ]
    }
   ],
   "source": [
    "# 2. 取出第一筆與最後一筆回答的時間\n",
    "for index, d in enumerate(data):\n",
    "    recordStr = ''\n",
    "    if (index == 0 or index == (len(data)-1)):\n",
    "        if (index == 0):\n",
    "            recordStr = '第一筆'\n",
    "        else:\n",
    "            recordStr = '最後一筆'\n",
    "        print(recordStr +' 發問時間 : ' + datetime.utcfromtimestamp(d['created_time']).strftime('%Y-%m-%d %H:%M:%S'))"
   ]
  }
 ],
 "metadata": {
  "kernelspec": {
   "display_name": "Python 3",
   "language": "python",
   "name": "python3"
  },
  "language_info": {
   "codemirror_mode": {
    "name": "ipython",
    "version": 3
   },
   "file_extension": ".py",
   "mimetype": "text/x-python",
   "name": "python",
   "nbconvert_exporter": "python",
   "pygments_lexer": "ipython3",
   "version": "3.6.8"
  }
 },
 "nbformat": 4,
 "nbformat_minor": 2
}
