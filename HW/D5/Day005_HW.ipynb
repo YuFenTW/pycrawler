{
 "cells": [
  {
   "cell_type": "markdown",
   "metadata": {},
   "source": [
    "# API 資料串接 - 以 Dcard API 實作範例\n",
    "\n",
    "* 了解 Dcard API 使用方式與回傳內容\n",
    "* 撰寫程式存取 API 且解析 JSON 格式資料\n"
   ]
  },
  {
   "cell_type": "markdown",
   "metadata": {},
   "source": [
    "## 作業目標\n",
    "\n",
    "* 請利用 API: https://www.dcard.tw/_api/forums/pet/posts?popular=true 回答下列問題：\n",
    "\n",
    "1. 這個 API 一次會回傳幾筆資料？每一筆資料包含哪些欄位？\n",
    "2. 取出每一筆資料的「標題」、「貼文時間」、「留言人數」、「按讚人數」\n",
    "3. 計算熱門/非熱門文章的「平均留言人數」與「平均按讚人數」"
   ]
  },
  {
   "cell_type": "code",
   "execution_count": 15,
   "metadata": {},
   "outputs": [
    {
     "name": "stdout",
     "output_type": "stream",
     "text": [
      "API 一次會回傳 30 筆資料\n",
      "API 每筆資料有 34 個欄位，欄位內容為 ['id', 'title', 'excerpt', 'anonymousSchool', 'anonymousDepartment', 'pinned', 'forumId', 'replyId', 'createdAt', 'updatedAt', 'commentCount', 'likeCount', 'withNickname', 'tags', 'topics', 'meta', 'forumName', 'forumAlias', 'nsfw', 'gender', 'school', 'department', 'replyTitle', 'mediaMeta', 'reactions', 'hidden', 'customStyle', 'isSuspiciousAccount', 'layout', 'withImages', 'withVideos', 'media', 'reportReasonText', 'postAvatar']\n"
     ]
    }
   ],
   "source": [
    "import requests,json\n",
    "\n",
    "# 1. 這個 API 一次會回傳幾筆資料？每一筆資料包含哪些欄位？\n",
    "r = requests.get('https://www.dcard.tw/_api/forums/pet/posts?popular=true')\n",
    "response = r.text\n",
    "\n",
    "data = json.loads(response)\n",
    "print('API 一次會回傳 %d 筆資料' % len(data))\n",
    "\n",
    "itemsArray = []\n",
    "for (k, v) in data[0].items():\n",
    "    itemsArray.append(k)\n",
    "\n",
    "print('API 每筆資料有 %d 個欄位，欄位內容為 %s' % (len(itemsArray), itemsArray))"
   ]
  },
  {
   "cell_type": "markdown",
   "metadata": {},
   "source": [
    "> [爬蟲 - 爬取Dcard文章](https://tlyu0419.github.io/2019/04/06/Crawl-Dcard/)\n",
    "<br>DCard 欄位說明"
   ]
  },
  {
   "cell_type": "code",
   "execution_count": 41,
   "metadata": {},
   "outputs": [
    {
     "name": "stdout",
     "output_type": "stream",
     "text": [
      "{'title': '樹！人！醫！護！的！同！學！', 'createdAt': '2020-06-04T03:10:47.863Z', 'commentCount': 26, 'likeCount': 332}\n",
      "{'title': '被貓咪抱著睡覺真的很療癒', 'createdAt': '2020-06-03T19:29:44.138Z', 'commentCount': 10, 'likeCount': 181}\n",
      "{'title': '20公分鼠條大份', 'createdAt': '2020-06-04T09:55:37.561Z', 'commentCount': 11, 'likeCount': 134}\n",
      "{'title': '幫高調 台南無良寵物訓練師', 'createdAt': '2020-06-04T12:54:34.824Z', 'commentCount': 43, 'likeCount': 112}\n",
      "{'title': '😡高調！！內有影片-黑特-不尊重生命的訓練師', 'createdAt': '2020-06-04T12:49:08.568Z', 'commentCount': 55, 'likeCount': 89}\n",
      "{'title': '牠讓女友洗澡變的膽戰心驚', 'createdAt': '2020-06-05T03:21:53.715Z', 'commentCount': 17, 'likeCount': 83}\n",
      "{'title': '把我家的貓拿去蒸了', 'createdAt': '2020-06-04T14:48:27.673Z', 'commentCount': 2, 'likeCount': 72}\n",
      "{'title': '所謂寵物訓練師？', 'createdAt': '2020-06-04T13:43:53.625Z', 'commentCount': 13, 'likeCount': 67}\n",
      "{'title': '本體不明的貓🐈', 'createdAt': '2020-06-04T22:16:37.043Z', 'commentCount': 5, 'likeCount': 64}\n",
      "{'title': '寵物訓練師放任家貓傷害野鳥😡', 'createdAt': '2020-06-04T16:03:24.766Z', 'commentCount': 4, 'likeCount': 32}\n",
      "{'title': '柴犬裝可憐', 'createdAt': '2020-06-04T17:11:16.969Z', 'commentCount': 2, 'likeCount': 21}\n",
      "{'title': '暹羅貓、米克斯❤️萌翻天', 'createdAt': '2020-06-04T11:43:50.574Z', 'commentCount': 10, 'likeCount': 17}\n",
      "{'title': '64，曬個蘇卡達戰車龜', 'createdAt': '2020-06-04T04:28:23.771Z', 'commentCount': 1, 'likeCount': 16}\n",
      "{'title': '分享偷偷養的寵物', 'createdAt': '2020-06-04T07:07:11.351Z', 'commentCount': 7, 'likeCount': 15}\n",
      "{'title': '育貓經：滿月前的幼貓飼養', 'createdAt': '2020-06-04T10:57:59.836Z', 'commentCount': 4, 'likeCount': 13}\n",
      "{'title': '隔門有貓', 'createdAt': '2020-06-03T22:20:10.519Z', 'commentCount': 0, 'likeCount': 13}\n",
      "{'title': '急！有沒有人有意願收編流浪貓貓', 'createdAt': '2020-06-05T05:54:08.988Z', 'commentCount': 3, 'likeCount': 12}\n",
      "{'title': '救救石虎！義賣活動～', 'createdAt': '2020-06-04T09:59:47.786Z', 'commentCount': 1, 'likeCount': 10}\n",
      "{'title': '兩隻柯基的日常', 'createdAt': '2020-06-05T04:27:42.957Z', 'commentCount': 1, 'likeCount': 8}\n",
      "{'title': 'Neko公主💕', 'createdAt': '2020-06-04T12:08:21.717Z', 'commentCount': 0, 'likeCount': 8}\n",
      "{'title': '你...還好嗎？', 'createdAt': '2020-06-04T08:40:02.967Z', 'commentCount': 3, 'likeCount': 8}\n",
      "{'title': '養到各種形象的鼠', 'createdAt': '2020-06-05T02:48:54.011Z', 'commentCount': 2, 'likeCount': 7}\n",
      "{'title': '尾巴90度的貓', 'createdAt': '2020-06-05T04:02:19.277Z', 'commentCount': 1, 'likeCount': 6}\n",
      "{'title': 'Share一下我家倉鼠', 'createdAt': '2020-06-04T14:30:51.247Z', 'commentCount': 3, 'likeCount': 6}\n",
      "{'title': '你養的難道是哥吉拉嗎？', 'createdAt': '2020-06-05T06:32:56.162Z', 'commentCount': 1, 'likeCount': 5}\n",
      "{'title': '#走失 #三峽北大一帶 狗狗走失', 'createdAt': '2020-06-04T14:26:18.452Z', 'commentCount': 2, 'likeCount': 5}\n",
      "{'title': '昨天剛養的哈姆太郎', 'createdAt': '2020-06-04T12:36:04.537Z', 'commentCount': 11, 'likeCount': 5}\n",
      "{'title': '限時動態看鳥的三隻貓', 'createdAt': '2020-06-04T09:52:50.503Z', 'commentCount': 5, 'likeCount': 5}\n",
      "{'title': '新手養鼠需知💙', 'createdAt': '2020-06-04T08:29:30.549Z', 'commentCount': 10, 'likeCount': 5}\n",
      "{'title': '以結紮小母貓送養', 'createdAt': '2020-06-04T03:22:20.727Z', 'commentCount': 5, 'likeCount': 5}\n"
     ]
    }
   ],
   "source": [
    "# 2. 取出每一筆資料的「標題」、「貼文時間」、「留言人數」、「按讚人數」\n",
    "postsObj = []\n",
    "\n",
    "for item in data:\n",
    "    item = {'title': item['title'], 'createdAt': item['createdAt'], 'commentCount': item['commentCount'], 'likeCount': item['likeCount']}\n",
    "    postsObj.append(item)\n",
    "    \n",
    "for item in postsObj:\n",
    "    print(item)"
   ]
  },
  {
   "cell_type": "code",
   "execution_count": 44,
   "metadata": {},
   "outputs": [
    {
     "name": "stdout",
     "output_type": "stream",
     "text": [
      "「平均留言人數」 = 8.60 / 「平均按讚人數」 = 45.20\n"
     ]
    }
   ],
   "source": [
    "# 3. 計算熱門/非熱門文章的「平均留言人數」與「平均按讚人數」\n",
    "sumCommentCount = 0\n",
    "sumLikeCount = 0\n",
    "\n",
    "for item in postsObj:\n",
    "    sumCommentCount = sumCommentCount + item['commentCount']\n",
    "    sumLikeCount = sumLikeCount + item['likeCount']\n",
    "    \n",
    "avgCommentCount = sumCommentCount / len(postsObj)   \n",
    "avgLikeCount = sumLikeCount / len(postsObj) \n",
    "\n",
    "print('「平均留言人數」 = %3.2f / 「平均按讚人數」 = %3.2f' % (avgCommentCount, avgLikeCount))"
   ]
  }
 ],
 "metadata": {
  "kernelspec": {
   "display_name": "Python 3",
   "language": "python",
   "name": "python3"
  },
  "language_info": {
   "codemirror_mode": {
    "name": "ipython",
    "version": 3
   },
   "file_extension": ".py",
   "mimetype": "text/x-python",
   "name": "python",
   "nbconvert_exporter": "python",
   "pygments_lexer": "ipython3",
   "version": "3.6.8"
  }
 },
 "nbformat": 4,
 "nbformat_minor": 2
}
