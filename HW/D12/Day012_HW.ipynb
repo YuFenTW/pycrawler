{
 "cells": [
  {
   "cell_type": "markdown",
   "metadata": {},
   "source": [
    "# Ettoday 網路爬蟲實作練習\n",
    "\n",
    "\n",
    "* 能夠利用 Request + BeatifulSour 撰寫爬蟲，並存放到合適的資料結構\n"
   ]
  },
  {
   "cell_type": "markdown",
   "metadata": {},
   "source": [
    "## 作業目標\n",
    "\n",
    "根據範例 ，完成以下問題：\n",
    "\n",
    "* ① 取出今天所有的發文\n",
    "* ② 如果想要依照類別分類，怎麼儲存會比較好？\n",
    "* ③ 哪一個類別的文章最多\n",
    "\n",
    "\n"
   ]
  },
  {
   "cell_type": "markdown",
   "metadata": {},
   "source": [
    "### ① 取出今天所有的發文"
   ]
  },
  {
   "cell_type": "code",
   "execution_count": 14,
   "metadata": {
    "scrolled": false
   },
   "outputs": [
    {
     "name": "stdout",
     "output_type": "stream",
     "text": [
      "[<h3><span class=\"date\">2020/06/10 02:52</span><em class=\"tag c_global\">國際</em><a href=\"/news/20200610/1734116.htm\" target=\"_blank\">連中國人都不想捐！WHO抗新冠肺炎「23天募11萬」　僅流浪貓狗20分之1</a></h3>, <h3><span class=\"date\">2020/06/10 02:39</span><em class=\"tag c_global\">國際</em><a href=\"/news/20200610/1734119.htm\" target=\"_blank\">WHO發聲明「無症狀患者傳播很罕見…」　專家傻眼：我超震驚</a></h3>, <h3><span class=\"date\">2020/06/10 02:31</span><em class=\"tag c_sport\">體育</em><a href=\"/news/20200610/1734118.htm\" target=\"_blank\"><i class=\"icon_type_video\"></i>中職／暴投變觸身球　統一獅少失1分未被追平險勝</a></h3>, <h3><span class=\"date\">2020/06/10 02:25</span><em class=\"tag c_sport\">體育</em><a href=\"/news/20200610/1734115.htm\" target=\"_blank\">中職／兄弟拚6連勝、20勝　德保拉對決富邦羅力</a></h3>, <h3><span class=\"date\">2020/06/10 02:23</span><em class=\"tag c_global\">國際</em><a href=\"/news/20200610/1734103.htm\" target=\"_blank\">印度新德里警告「新冠確診再飆20倍」　7月底前破50萬例</a></h3>, <h3><span class=\"date\">2020/06/10 01:57</span><em class=\"tag c_gender\">男女</em><a href=\"/news/20200610/1733712.htm\" target=\"_blank\">脫光光就少了神秘感　5招穿衣愛愛心機請熟用　</a></h3>, <h3><span class=\"date\">2020/06/10 01:56</span><em class=\"tag c_lifestyle\">生活</em><a href=\"/news/20200610/1734113.htm\" target=\"_blank\">珍奶20元一路漲到60up！「價格回不去了」他好奇：最貴能接受多少錢</a></h3>, <h3><span class=\"date\">2020/06/10 01:38</span><em class=\"tag c_society\">社會</em><a href=\"/news/20200610/1733925.htm\" target=\"_blank\">嗆哭被害人！「機械系法官」嘲諷律師：你哪個學校畢業？</a></h3>, <h3><span class=\"date\">2020/06/10 01:37</span><em class=\"tag c_society\">社會</em><a href=\"/news/20200610/1734109.htm\" target=\"_blank\">警疑詐1140萬保金控「我報警被吃案」　板橋分局打臉：同事不會因車禍吃案</a></h3>, <h3><span class=\"date\">2020/06/10 01:23</span><em class=\"tag c_lifestyle\">生活</em><a href=\"/news/20200610/1734112.htm\" target=\"_blank\">阿中部長神話殞落？他目睹「台灣1景象」...揭露防疫成功真相　酸爆陳時中</a></h3>, <h3><span class=\"date\">2020/06/10 01:21</span><em class=\"tag c_society\">社會</em><a href=\"/news/20200610/1734111.htm\" target=\"_blank\"><i class=\"icon_type_video\"></i>這邊我最有錢！28歲豪宅住戶羞辱保全　「吐水噴臉」還罵：你是奴才</a></h3>, <h3><span class=\"date\">2020/06/10 01:11</span><em class=\"tag c_society\">社會</em><a href=\"/news/20200610/1734110.htm\" target=\"_blank\">重殘警「神復原」健步如飛！基隆地檢署不信是裝的　胞妹愧認</a></h3>, <h3><span class=\"date\">2020/06/10 01:05</span><em class=\"tag c_news\">政治</em><a href=\"/news/20200610/1734101.htm\" target=\"_blank\"><i class=\"icon_type_video\"></i>名嘴預測韓國瑜2024「還會選總統」　劉寶傑大驚：你不要嚇我！</a></h3>, <h3><span class=\"date\">2020/06/10 01:01</span><em class=\"tag c_society\">社會</em><a href=\"/news/20200610/1734108.htm\" target=\"_blank\">瀕植物人還能抓壞人！騙倒7保險公司　北市「警界影帝」：年薪94萬不會貪</a></h3>, <h3><span class=\"date\">2020/06/10 00:55</span><em class=\"tag c_news\">政治</em><a href=\"/news/20200610/1734107.htm\" target=\"_blank\">民眾黨內亂不斷　黃瀞瑩看不下去說話了！喊話：走的遠要一群人走</a></h3>, <h3><span class=\"date\">2020/06/10 00:54</span><em class=\"tag c_fashion\">時尚</em><a href=\"/news/20200610/1732157.htm\" target=\"_blank\">太前衛只有GD能駕馭！Nike「未來感科技鞋」碟照曝光　比Dior聯名還限量</a></h3>, <h3><span class=\"date\">2020/06/10 00:43</span><em class=\"tag c_netsearch\">網搜</em><a href=\"/news/20200610/1734104.htm\" target=\"_blank\">三倍券可「直領2000現金」！網看完辦法愣住…無奈回應：好複雜</a></h3>, <h3><span class=\"date\">2020/06/10 00:38</span><em class=\"tag c_sport\">體育</em><a href=\"/news/20200610/1734097.htm\" target=\"_blank\">中職／樂天桃猿保王位　尼寇力出馬對決施子謙</a></h3>, <h3><span class=\"date\">2020/06/10 00:33</span><em class=\"tag c_star\">影劇</em><a href=\"/news/20200610/1734102.htm\" target=\"_blank\">王嘉爾又變更瘦！　「狠甩16公斤」4年對比照曝光…網嘆：絕了</a></h3>, <h3><span class=\"date\">2020/06/10 00:33</span><em class=\"tag c_star\">影劇</em><a href=\"/news/20200610/1734100.htm\" target=\"_blank\">林志穎帶Kimi路邊賞車「6000萬頂級超跑」　車主戴墨鏡…Tag露餡天王級人物</a></h3>, <h3><span class=\"date\">2020/06/10 00:28</span><em class=\"tag c_star\">影劇</em><a href=\"/news/20200610/1734086.htm\" target=\"_blank\">12星座未來3個月危機公開！　風象星座「遠離水邊」游泳要小心</a></h3>, <h3><span class=\"date\">2020/06/10 00:26</span><em class=\"tag c_netsearch\">網搜</em><a href=\"/news/20200610/1734095.htm\" target=\"_blank\">台灣被害最慘的公眾人物是誰？網友答案超一致：要問幾遍啦「就是她」</a></h3>, <h3><span class=\"date\">2020/06/10 00:19</span><em class=\"tag c_fashion\">時尚</em><a href=\"/news/20200610/1730024.htm\" target=\"_blank\">盤點9款「無毒護唇膏」　親民百元價，幼童孕婦也能安心用</a></h3>, <h3><span class=\"date\">2020/06/10 00:13</span><em class=\"tag c_consuming\">消費</em><a href=\"/news/20200610/1732800.htm\" target=\"_blank\">6月同志驕傲月！New Balance、Nike、adidas都有彩虹限定鞋</a></h3>, <h3><span class=\"date\">2020/06/10 00:06</span><em class=\"tag c_army\">軍武</em><a href=\"/news/20200610/1733886.htm\" target=\"_blank\">要價390億福特號航艦又故障？　無法連續彈射戰機5天</a></h3>, <h3><span class=\"date\">2020/06/10 00:04</span><em class=\"tag c_global\">國際</em><a href=\"/news/20200610/1734070.htm\" target=\"_blank\">美國頁岩油先驅將聲請破產保護　「切薩皮克能源公司」負債2600億</a></h3>, <h3><span class=\"date\">2020/06/10 00:04</span><em class=\"tag c_pet\">寵物動物</em><a href=\"/news/20200610/1733386.htm\" target=\"_blank\"><i class=\"icon_type_video\"></i>偷玩筆被戳頭訓話！　牠伸肥手狂揮反擊…意外曝「短處」</a></h3>, <h3><span class=\"date\">2020/06/10 00:03</span><em class=\"tag c_health\">健康</em><a href=\"/news/20200610/1733748.htm\" target=\"_blank\">紅蘿蔔吃太多會維生素A中毒　食藥署列「每日限量」：有7症狀當心了</a></h3>, <h3><span class=\"date\">2020/06/09 23:54</span><em class=\"tag c_global\">國際</em><a href=\"/news/20200609/1734093.htm\" target=\"_blank\">將在8月卸任！蒲隆地總統心臟病發身亡　享年56歲</a></h3>, <h3><span class=\"date\">2020/06/09 23:51</span><em class=\"tag c_lifestyle\">生活</em><a href=\"/news/20200609/1734092.htm\" target=\"_blank\">最特別的姓是什麼？網友好奇發問　意外釣出「全台僅一家」姓氏</a></h3>, <h3><span class=\"date\">2020/06/09 23:51</span><em class=\"tag c_star\">影劇</em><a href=\"/news/20200609/1734091.htm\" target=\"_blank\">「有月經＝女性？」J.K羅琳挨轟歧視！　丹尼爾雷德克里夫發聲：跨性別也是女人</a></h3>, <h3><span class=\"date\">2020/06/09 23:48</span><em class=\"tag c_sport\">體育</em><a href=\"/news/20200609/1734087.htm\" target=\"_blank\">中職／統一獅為何今年很會打桃猿　陳鏞基笑：不便透露</a></h3>, <h3><span class=\"date\">2020/06/09 23:44</span><em class=\"tag c_star\">影劇</em><a href=\"/news/20200609/1734090.htm\" target=\"_blank\"><i class=\"icon_type_video\"></i>好萊塢「18年最強詛咒」誰碰到都失敗！　連名導諾蘭、李奧納多都無法打破</a></h3>, <h3><span class=\"date\">2020/06/09 23:33</span><em class=\"tag c_china\">大陸</em><a href=\"/news/20200609/1733971.htm\" target=\"_blank\">太極掌門30秒慘敗！曾霸氣喊「我認真打，他們就要見閻王」　最新影片被挖出</a></h3>, <h3><span class=\"date\">2020/06/09 23:32</span><em class=\"tag c_sport\">體育</em><a href=\"/news/20200609/1734088.htm\" target=\"_blank\">中職／統一1分險勝中止4連敗　林岳平笑了：好久不見</a></h3>, <h3><span class=\"date\">2020/06/09 23:24</span><em class=\"tag c_sport\">體育</em><a href=\"/news/20200609/1734074.htm\" target=\"_blank\">中職／林立猛打賞4割男躍居打擊王　林泓育落到第3</a></h3>, <h3><span class=\"date\">2020/06/09 23:16</span><em class=\"tag c_star\">影劇</em><a href=\"/news/20200609/1734085.htm\" target=\"_blank\"><i class=\"icon_type_video\"></i>南韓第一支KPOP小分隊！　SUPER JUNIOR-K.R.Y.「成軍14年」才發第一張專輯</a></h3>, <h3><span class=\"date\">2020/06/09 23:16</span><em class=\"tag c_star\">影劇</em><a href=\"/news/20200609/1734082.htm\" target=\"_blank\">嫁向佐9個月豪門婚登記卡關！　郭碧婷突發文：身邊的人總是無下限的消費你</a></h3>, <h3><span class=\"date\">2020/06/09 23:13</span><em class=\"tag c_lifestyle\">生活</em><a href=\"/news/20200609/1734081.htm\" target=\"_blank\">PS4悠遊卡等到哭！網友見出貨時間「2年」罵爆　悠遊卡公司揭原因</a></h3>, <h3><span class=\"date\">2020/06/09 23:13</span><em class=\"tag c_sport\">體育</em><a href=\"/news/20200609/1734080.htm\" target=\"_blank\">中職／江辰晏先發4連勝、陳鏞基猛打賞助統一7比6樂天止敗</a></h3>, <h3><span class=\"date\">2020/06/09 23:12</span><em class=\"tag c_fashion\">時尚</em><a href=\"/news/20200609/1731054.htm\" target=\"_blank\">《美少女戰士》甜點系飾品降臨！水手服蝴蝶結糖果、貓咪馬卡龍美翻</a></h3>, <h3><span class=\"date\">2020/06/09 23:08</span><em class=\"tag c_star\">影劇</em><a href=\"/news/20200609/1734055.htm\" target=\"_blank\"><i class=\"icon_type_video\"></i>孫燕姿自彈自唱《天黑黑》　加碼《逆光》「4經典歌曲連發」網嗨翻</a></h3>, <h3><span class=\"date\">2020/06/09 23:07</span><em class=\"tag c_society\">社會</em><a href=\"/news/20200609/1734083.htm\" target=\"_blank\">警副所長是賊！A走同事300塊肉排　餐廳廚師一句話讓他吞不下去</a></h3>, <h3><span class=\"date\">2020/06/09 22:59</span><em class=\"tag c_global\">國際</em><a href=\"/news/20200609/1734069.htm\" target=\"_blank\">捷克議長秀「台捷友好」蛋糕…糖霜寫上名言　來自這位超挺台灣前總統</a></h3>, <h3><span class=\"date\">2020/06/09 22:58</span><em class=\"tag c_global\">國際</em><a href=\"/news/20200609/1734072.htm\" target=\"_blank\">羅馬2囚犯深夜摸黑逃獄　留言獄警「15天內回來」...刑期再+5年</a></h3>, <h3><span class=\"date\">2020/06/09 22:52</span><em class=\"tag c_news\">政治</em><a href=\"/news/20200609/1734079.htm\" target=\"_blank\">陳為廷近況曝光！將赴美唸外交法律碩士　將成耿爽和丁守中學弟</a></h3>, <h3><span class=\"date\">2020/06/09 22:51</span><em class=\"tag c_novelty\">新奇</em><a href=\"/news/20200609/1733820.htm\" target=\"_blank\">月球離地球越來越遠！　土衛6遠離速度比預期高100倍</a></h3>, <h3><span class=\"date\">2020/06/09 22:50</span><em class=\"tag c_netsearch\">網搜</em><a href=\"/news/20200609/1734052.htm\" target=\"_blank\"><i class=\"icon_type_video\"></i>車尾遭追撞！台北男「爆氣踢人」抖兩下摔倒…目擊者1秒笑噴</a></h3>, <h3><span class=\"date\">2020/06/09 22:46</span><em class=\"tag c_china\">大陸</em><a href=\"/news/20200609/1734066.htm\" target=\"_blank\">籲政院讓應屆畢業生先返台！陸委會稱轉達「教育部」：管理是不得已作法</a></h3>, <h3><span class=\"date\">2020/06/09 22:43</span><em class=\"tag c_news\">政治</em><a href=\"/news/20200609/1734054.htm\" target=\"_blank\">追謚許崑源「永遠議長」民進黨團鬧內鬨　高市議會抨擊：人無信而不立</a></h3>, <h3><span class=\"date\">2020/06/09 22:40</span><em class=\"tag c_star\">影劇</em><a href=\"/news/20200609/1734076.htm\" target=\"_blank\"><i class=\"icon_type_video\"></i>孫燕姿出道20週年突開直播...鏡頭一轉是「正式演唱會」網全聽哭！</a></h3>, <h3><span class=\"date\">2020/06/09 22:33</span><em class=\"tag c_pet\">寵物動物</em><a href=\"/news/20200609/1733415.htm\" target=\"_blank\">感動愛貓排隊等飯！　回過神「盜版分身」快吃完嚇歪：你誰？</a></h3>, <h3><span class=\"date\">2020/06/09 22:31</span><em class=\"tag c_society\">社會</em><a href=\"/news/20200609/1734075.htm\" target=\"_blank\">快訊／彰化偷車北上找女網友　永和市區遇警亡命逃竄…警開7槍制伏　</a></h3>, <h3><span class=\"date\">2020/06/09 22:30</span><em class=\"tag c_fashion\">時尚</em><a href=\"/news/20200609/1733983.htm\" target=\"_blank\">跟著下手就沒錯！寶雅曝「內行人購物清單」，一上架就缺貨</a></h3>, <h3><span class=\"date\">2020/06/09 22:29</span><em class=\"tag c_finance\">財經</em><a href=\"/news/20200609/1734068.htm\" target=\"_blank\"><i class=\"icon_type_video\"></i>台積電懶人包出爐！讀完秒懂「股東會4大重點」　董事長劉德音解說內容曝光</a></h3>, <h3><span class=\"date\">2020/06/09 22:27</span><em class=\"tag c_star\">影劇</em><a href=\"/news/20200609/1734073.htm\" target=\"_blank\">康康娶小18歲嫩妻遭反對　提親前杭州買房「鄧麗君助攻」岳父終點頭</a></h3>, <h3><span class=\"date\">2020/06/09 22:27</span><em class=\"tag c_health\">健康</em><a href=\"/news/20200609/1732755.htm\" target=\"_blank\">深蹲能延長壽命？這些眉角要注意　適合長者的5個日常「微運動」</a></h3>, <h3><span class=\"date\">2020/06/09 22:24</span><em class=\"tag c_news\">政治</em><a href=\"/news/20200609/1734064.htm\" target=\"_blank\">快訊／韓國瑜FB號召韓粉：6/11穿白衣「團結守望高雄」</a></h3>, <h3><span class=\"date\">2020/06/09 22:05</span><em class=\"tag c_local\">地方</em><a href=\"/news/20200609/1734035.htm\" target=\"_blank\">雲林監理站職業駕駛關懷服務　專業諮詢讓駕駛人備感窩心</a></h3>, <h3><span class=\"date\">2020/06/09 22:04</span><em class=\"tag c_local\">地方</em><a href=\"/news/20200609/1734030.htm\" target=\"_blank\">做好事一起來　桃園2公益社團捐贈150台輪椅11個單位受惠</a></h3>, <h3><span class=\"date\">2020/06/09 22:03</span><em class=\"tag c_local\">地方</em><a href=\"/news/20200609/1734060.htm\" target=\"_blank\">快訊／高雄部分地區16日停水12小時　55萬戶民眾快儲水！</a></h3>, <h3><span class=\"date\">2020/06/09 21:58</span><em class=\"tag c_star\">影劇</em><a href=\"/news/20200609/1734056.htm\" target=\"_blank\">謝和弦重返自由爽貼莉婭！　「謝謝余天」…親揭隔牆掉淚內幕</a></h3>, <h3><span class=\"date\">2020/06/09 21:56</span><em class=\"tag c_sport\">體育</em><a href=\"/news/20200609/1733962.htm\" target=\"_blank\">不斷更新／郭嚴文代打敲陽春砲　滿壘蘇智傑獲保送　7局統一5比3樂天</a></h3>, <h3><span class=\"date\">2020/06/09 21:54</span><em class=\"tag c_news\">政治</em><a href=\"/news/20200609/1734045.htm\" target=\"_blank\">曾給韓國瑜建議！陳其邁受訪吐心聲　揭露2人小秘密：他有點Over</a></h3>, <h3><span class=\"date\">2020/06/09 21:54</span><em class=\"tag c_star\">影劇</em><a href=\"/news/20200609/1733552.htm\" target=\"_blank\"><i class=\"icon_type_video\"></i>小8吻戲發抖「糗變擺頭風扇」　狂親坤達20次才過關</a></h3>, <h3><span class=\"date\">2020/06/09 21:53</span><em class=\"tag c_star\">影劇</em><a href=\"/news/20200609/1734057.htm\" target=\"_blank\">防彈V：因為太貴結帳時手都在抖！　名錶「售價曝光」韓網驚：根本超樸素價錢</a></h3>, <h3><span class=\"date\">2020/06/09 21:35</span><em class=\"tag c_news\">政治</em><a href=\"/news/20200609/1734044.htm\" target=\"_blank\"><i class=\"icon_type_video\"></i>呱吉感謝祭「屁股猛夾53根竹筷」　穿黑三角褲「緊繃臀大肌」…網笑：說到做到</a></h3>, <h3><span class=\"date\">2020/06/09 21:34</span><em class=\"tag c_star\">影劇</em><a href=\"/news/20200609/1734050.htm\" target=\"_blank\">張立昂入浴戲羞喊「露腹部的毛好看」　關韶文伸手驗貨：一格一格的！</a></h3>, <h3><span class=\"date\">2020/06/09 21:32</span><em class=\"tag c_star\">影劇</em><a href=\"/news/20200609/1734031.htm\" target=\"_blank\">鄭爽爆取代趙麗穎接拍電影版《花千骨》　粉絲全氣炸…灌爆微博！</a></h3>, <h3><span class=\"date\">2020/06/09 21:31</span><em class=\"tag c_fashion\">時尚</em><a href=\"/news/20200609/1733749.htm\" target=\"_blank\">泫雅好肌膚全靠「草莓奶油」塗臉　使用時幾件事要注意</a></h3>, <h3><span class=\"date\">2020/06/09 21:30</span><em class=\"tag c_health\">健康</em><a href=\"/news/20200609/1734020.htm\" target=\"_blank\">臺大雲林分院引進多針雙電極電燒微創治療　有機會根除中大型肝腫瘤</a></h3>, <h3><span class=\"date\">2020/06/09 21:29</span><em class=\"tag c_news\">政治</em><a href=\"/news/20200609/1734002.htm\" target=\"_blank\">不提罷免訴訟…陳水扁讚「韓國瑜改變了！」　陳其邁將當選補選市長</a></h3>, <h3><span class=\"date\">2020/06/09 21:26</span><em class=\"tag c_health\">健康</em><a href=\"/news/20200609/1733035.htm\" target=\"_blank\">撩、油讓人白眼！聊天只靠「1技巧」狂冒火花...默默偷走女生心</a></h3>, <h3><span class=\"date\">2020/06/09 21:25</span><em class=\"tag c_local\">地方</em><a href=\"/news/20200609/1734005.htm\" target=\"_blank\">端午佳節關懷低收戶　台塑企業今年加贈抗菌防疫用品</a></h3>, <h3><span class=\"date\">2020/06/09 21:20</span><em class=\"tag c_global\">國際</em><a href=\"/news/20200609/1734046.htm\" target=\"_blank\">京阿尼縱火犯「廢人狀態」出庭　法官說明拘留原因：有逃亡、滅證之虞</a></h3>, <h3><span class=\"date\">2020/06/09 21:17</span><em class=\"tag c_news\">政治</em><a href=\"/news/20200609/1734015.htm\" target=\"_blank\">鄭弘儀狂問「有沒有興趣選台北市長？」　陳時中鬆口回應了</a></h3>, <h3><span class=\"date\">2020/06/09 21:13</span><em class=\"tag c_star\">影劇</em><a href=\"/news/20200609/1734043.htm\" target=\"_blank\"><i class=\"icon_type_video\"></i>黃韻玲畢典開唱經典歌...製作人爆料：當年我們幹過不少壞事！</a></h3>, <h3><span class=\"date\">2020/06/09 21:11</span><em class=\"tag c_sport\">體育</em><a href=\"/news/20200609/1734042.htm\" target=\"_blank\">中職／周思齊蜂蜜檸檬理論5連勝　兄弟「甩甩蜜檸」上市</a></h3>, <h3><span class=\"date\">2020/06/09 21:11</span><em class=\"tag c_finance\">財經</em><a href=\"/news/20200609/1734041.htm\" target=\"_blank\">金融資產評價有撐　開發金5月賺4.83億元　EPS為0.14元</a></h3>, <h3><span class=\"date\">2020/06/09 21:11</span><em class=\"tag c_society\">社會</em><a href=\"/news/20200609/1734040.htm\" target=\"_blank\"><i class=\"icon_type_video\"></i>快訊／哥倫比亞「神偷三人組」內湖豪宅竊700萬　檢方聲請羈押</a></h3>, <h3><span class=\"date\">2020/06/09 21:07</span><em class=\"tag c_finance\">財經</em><a href=\"/news/20200609/1734021.htm\" target=\"_blank\">「我是因為張忠謀才買」聽完小股東發言…董事長劉德音妙答：我也這樣加入台積電！</a></h3>, <h3><span class=\"date\">2020/06/09 21:07</span><em class=\"tag c_society\">社會</em><a href=\"/news/20200609/1733929.htm\" target=\"_blank\">遺書內容曝光！基隆夫妻「擁抱姿勢」亡…家屬見長蟲屍崩潰</a></h3>, <h3><span class=\"date\">2020/06/09 21:07</span><em class=\"tag c_pet\">寵物動物</em><a href=\"/news/20200609/1733294.htm\" target=\"_blank\"><i class=\"icon_type_video\"></i>不想睡覺！大爺貓「爬7階樓梯趴7次」假裝癱軟　爸猛彎腰快氣瘋</a></h3>, <h3><span class=\"date\">2020/06/09 21:06</span><em class=\"tag c_travel\">旅遊</em><a href=\"/news/20200609/1734029.htm\" target=\"_blank\">想吃趕快訂！全台大解封　3大人氣Buffet餐廳6月假日訂位已9成滿</a></h3>, <h3><span class=\"date\">2020/06/09 21:04</span><em class=\"tag c_fashion\">時尚</em><a href=\"/news/20200609/1734034.htm\" target=\"_blank\">連鎖咖啡首發！丹堤推振興券方案　「買10杯送20杯」可喝一整年</a></h3>, <h3><span class=\"date\">2020/06/09 21:03</span><em class=\"tag c_fashion\">時尚</em><a href=\"/news/20200609/1733717.htm\" target=\"_blank\">六月火象星座愛情運勢！水逆來襲　獅子座別踏入多角關係中...</a></h3>, <h3><span class=\"date\">2020/06/09 21:02</span><em class=\"tag c_health\">健康</em><a href=\"/news/20200609/1731114.htm\" target=\"_blank\"><i class=\"icon_type_video\"></i>分手還聯絡前任？她淡定揭5大理由「藏暗黑真相」…網爆氣：都是渣</a></h3>, <h3><span class=\"date\">2020/06/09 21:01</span><em class=\"tag c_lifestyle\">生活</em><a href=\"/news/20200609/1734037.htm\" target=\"_blank\">勞動部減班休息座談會　 許銘春到場聽取企業心聲</a></h3>, <h3><span class=\"date\">2020/06/09 21:00</span><em class=\"tag c_news\">政治</em><a href=\"/news/20200609/1734033.htm\" target=\"_blank\"><i class=\"icon_type_video\"></i>影／「罷免成功」韓粉兌現承諾！臉書直播吃屎…網看完全氣炸</a></h3>, <h3><span class=\"date\">2020/06/09 21:00</span><em class=\"tag c_sport\">體育</em><a href=\"/news/20200609/1733648.htm\" target=\"_blank\"><i class=\"icon_type_video\"></i>高球徐薇淩設定獎金80萬美金　疫情砍掉重練從小目標做起</a></h3>, <h3><span class=\"date\">2020/06/09 20:54</span><em class=\"tag c_local\">地方</em><a href=\"/news/20200609/1734001.htm\" target=\"_blank\"><i class=\"icon_type_video\"></i>女友威脅分手！高雄男借100萬代考費找槍手考進中油…下場慘兮兮</a></h3>, <h3><span class=\"date\">2020/06/09 20:53</span><em class=\"tag c_finance\">財經</em><a href=\"/news/20200609/1734025.htm\" target=\"_blank\">4大公股金控5月獲利下跌15%　業者憂海外放款成獲利新地雷</a></h3>, <h3><span class=\"date\">2020/06/09 20:52</span><em class=\"tag c_society\">社會</em><a href=\"/news/20200609/1734016.htm\" target=\"_blank\">高雄警執勤又受傷！駕駛車上睡覺遭盤查…拒檢開車逃逸　員警衰扭傷</a></h3>, <h3><span class=\"date\">2020/06/09 20:48</span><em class=\"tag c_sport\">體育</em><a href=\"/news/20200609/1734017.htm\" target=\"_blank\">不斷更新／樂天連續失誤　統一攻3分擴大比分　5局統一4比2樂天</a></h3>, <h3><span class=\"date\">2020/06/09 20:47</span><em class=\"tag c_army\">軍武</em><a href=\"/news/20200609/1734018.htm\" target=\"_blank\">29年如1日！解放軍空軍紀錄保持人退役　飛行時數達5290hrs</a></h3>, <h3><span class=\"date\">2020/06/09 20:46</span><em class=\"tag c_lifestyle\">生活</em><a href=\"/news/20200609/1734027.htm\" target=\"_blank\">為台灣蝴蝶蘭開拓國際市場　崑大智利籍碩士董雅莉經營蘭園　</a></h3>, <h3><span class=\"date\">2020/06/09 20:45</span><em class=\"tag c_star\">影劇</em><a href=\"/news/20200609/1733553.htm\" target=\"_blank\"><i class=\"icon_type_video\"></i>《陳芊芊》現代番外篇甜爆！丁禹兮「穿女裝逗趙露思笑」被封寵妻狂魔</a></h3>, <h3><span class=\"date\">2020/06/09 20:44</span><em class=\"tag c_society\">社會</em><a href=\"/news/20200609/1734009.htm\" target=\"_blank\">夫妻相擁陳屍基隆套房！遺體黑到長蟲飄惡臭　爸爸認屍才發現女兒結婚了</a></h3>, <h3><span class=\"date\">2020/06/09 20:43</span><em class=\"tag c_sport\">體育</em><a href=\"/news/20200609/1734023.htm\" target=\"_blank\">韓職／睽違2442天回韓職　吳昇桓禁賽後初登板最速148</a></h3>, <h3><span class=\"date\">2020/06/09 20:43</span><em class=\"tag c_star\">影劇</em><a href=\"/news/20200609/1734019.htm\" target=\"_blank\">已婚經紀公司老闆「狂追24歲正妹女星」！　藝人被逼到患憂鬱症…老闆妻反咬她勾引</a></h3>]\n"
     ]
    }
   ],
   "source": [
    "import requests, json\n",
    "from bs4 import BeautifulSoup\n",
    "\n",
    "url = 'https://www.ettoday.net/news/news-list.htm'\n",
    "r = requests.get(url)\n",
    "\n",
    "soup = BeautifulSoup(r.text, \"html5lib\")\n",
    "newsLists = soup.find('div', class_='part_list_2').find_all('h3')\n",
    "print(newsLists)"
   ]
  },
  {
   "cell_type": "markdown",
   "metadata": {},
   "source": [
    "### ② 如果想要依照類別分類，怎麼儲存會比較好？"
   ]
  },
  {
   "cell_type": "code",
   "execution_count": 36,
   "metadata": {},
   "outputs": [
    {
     "name": "stdout",
     "output_type": "stream",
     "text": [
      "-------> 用 JSON 來儲存\n",
      "\n",
      "\n",
      "{'國際': ['連中國人都不想捐！WHO抗新冠肺炎「23天募11萬」\\u3000僅流浪貓狗20分之1', 'WHO發聲明「無症狀患者傳播很罕見…」\\u3000專家傻眼：我超震驚', '印度新德里警告「新冠確診再飆20倍」\\u30007月底前破50萬例', '美國頁岩油先驅將聲請破產保護\\u3000「切薩皮克能源公司」負債2600億', '將在8月卸任！蒲隆地總統心臟病發身亡\\u3000享年56歲', '捷克議長秀「台捷友好」蛋糕…糖霜寫上名言\\u3000來自這位超挺台灣前總統', '羅馬2囚犯深夜摸黑逃獄\\u3000留言獄警「15天內回來」...刑期再+5年', '京阿尼縱火犯「廢人狀態」出庭\\u3000法官說明拘留原因：有逃亡、滅證之虞'], '體育': ['中職／暴投變觸身球\\u3000統一獅少失1分未被追平險勝', '中職／兄弟拚6連勝、20勝\\u3000德保拉對決富邦羅力', '中職／樂天桃猿保王位\\u3000尼寇力出馬對決施子謙', '中職／統一獅為何今年很會打桃猿\\u3000陳鏞基笑：不便透露', '中職／統一1分險勝中止4連敗\\u3000林岳平笑了：好久不見', '中職／林立猛打賞4割男躍居打擊王\\u3000林泓育落到第3', '中職／江辰晏先發4連勝、陳鏞基猛打賞助統一7比6樂天止敗', '不斷更新／郭嚴文代打敲陽春砲\\u3000滿壘蘇智傑獲保送\\u30007局統一5比3樂天', '中職／周思齊蜂蜜檸檬理論5連勝\\u3000兄弟「甩甩蜜檸」上市', '高球徐薇淩設定獎金80萬美金\\u3000疫情砍掉重練從小目標做起', '不斷更新／樂天連續失誤\\u3000統一攻3分擴大比分\\u30005局統一4比2樂天', '韓職／睽違2442天回韓職\\u3000吳昇桓禁賽後初登板最速148'], '男女': ['脫光光就少了神秘感\\u30005招穿衣愛愛心機請熟用\\u3000'], '生活': ['珍奶20元一路漲到60up！「價格回不去了」他好奇：最貴能接受多少錢', '阿中部長神話殞落？他目睹「台灣1景象」...揭露防疫成功真相\\u3000酸爆陳時中', '最特別的姓是什麼？網友好奇發問\\u3000意外釣出「全台僅一家」姓氏', 'PS4悠遊卡等到哭！網友見出貨時間「2年」罵爆\\u3000悠遊卡公司揭原因', '勞動部減班休息座談會\\u3000 許銘春到場聽取企業心聲', '為台灣蝴蝶蘭開拓國際市場\\u3000崑大智利籍碩士董雅莉經營蘭園\\u3000'], '社會': ['嗆哭被害人！「機械系法官」嘲諷律師：你哪個學校畢業？', '警疑詐1140萬保金控「我報警被吃案」\\u3000板橋分局打臉：同事不會因車禍吃案', '這邊我最有錢！28歲豪宅住戶羞辱保全\\u3000「吐水噴臉」還罵：你是奴才', '重殘警「神復原」健步如飛！基隆地檢署不信是裝的\\u3000胞妹愧認', '瀕植物人還能抓壞人！騙倒7保險公司\\u3000北市「警界影帝」：年薪94萬不會貪', '警副所長是賊！A走同事300塊肉排\\u3000餐廳廚師一句話讓他吞不下去', '快訊／彰化偷車北上找女網友\\u3000永和市區遇警亡命逃竄…警開7槍制伏\\u3000', '快訊／哥倫比亞「神偷三人組」內湖豪宅竊700萬\\u3000檢方聲請羈押', '遺書內容曝光！基隆夫妻「擁抱姿勢」亡…家屬見長蟲屍崩潰', '高雄警執勤又受傷！駕駛車上睡覺遭盤查…拒檢開車逃逸\\u3000員警衰扭傷', '夫妻相擁陳屍基隆套房！遺體黑到長蟲飄惡臭\\u3000爸爸認屍才發現女兒結婚了'], '政治': ['名嘴預測韓國瑜2024「還會選總統」\\u3000劉寶傑大驚：你不要嚇我！', '民眾黨內亂不斷\\u3000黃瀞瑩看不下去說話了！喊話：走的遠要一群人走', '陳為廷近況曝光！將赴美唸外交法律碩士\\u3000將成耿爽和丁守中學弟', '追謚許崑源「永遠議長」民進黨團鬧內鬨\\u3000高市議會抨擊：人無信而不立', '快訊／韓國瑜FB號召韓粉：6/11穿白衣「團結守望高雄」', '曾給韓國瑜建議！陳其邁受訪吐心聲\\u3000揭露2人小秘密：他有點Over', '呱吉感謝祭「屁股猛夾53根竹筷」\\u3000穿黑三角褲「緊繃臀大肌」…網笑：說到做到', '不提罷免訴訟…陳水扁讚「韓國瑜改變了！」\\u3000陳其邁將當選補選市長', '鄭弘儀狂問「有沒有興趣選台北市長？」\\u3000陳時中鬆口回應了', '影／「罷免成功」韓粉兌現承諾！臉書直播吃屎…網看完全氣炸'], '時尚': ['太前衛只有GD能駕馭！Nike「未來感科技鞋」碟照曝光\\u3000比Dior聯名還限量', '盤點9款「無毒護唇膏」\\u3000親民百元價，幼童孕婦也能安心用', '《美少女戰士》甜點系飾品降臨！水手服蝴蝶結糖果、貓咪馬卡龍美翻', '跟著下手就沒錯！寶雅曝「內行人購物清單」，一上架就缺貨', '泫雅好肌膚全靠「草莓奶油」塗臉\\u3000使用時幾件事要注意', '連鎖咖啡首發！丹堤推振興券方案\\u3000「買10杯送20杯」可喝一整年', '六月火象星座愛情運勢！水逆來襲\\u3000獅子座別踏入多角關係中...'], '網搜': ['三倍券可「直領2000現金」！網看完辦法愣住…無奈回應：好複雜', '台灣被害最慘的公眾人物是誰？網友答案超一致：要問幾遍啦「就是她」', '車尾遭追撞！台北男「爆氣踢人」抖兩下摔倒…目擊者1秒笑噴'], '影劇': ['王嘉爾又變更瘦！\\u3000「狠甩16公斤」4年對比照曝光…網嘆：絕了', '林志穎帶Kimi路邊賞車「6000萬頂級超跑」\\u3000車主戴墨鏡…Tag露餡天王級人物', '12星座未來3個月危機公開！\\u3000風象星座「遠離水邊」游泳要小心', '「有月經＝女性？」J.K羅琳挨轟歧視！\\u3000丹尼爾雷德克里夫發聲：跨性別也是女人', '好萊塢「18年最強詛咒」誰碰到都失敗！\\u3000連名導諾蘭、李奧納多都無法打破', '南韓第一支KPOP小分隊！\\u3000SUPER JUNIOR-K.R.Y.「成軍14年」才發第一張專輯', '嫁向佐9個月豪門婚登記卡關！\\u3000郭碧婷突發文：身邊的人總是無下限的消費你', '孫燕姿自彈自唱《天黑黑》\\u3000加碼《逆光》「4經典歌曲連發」網嗨翻', '孫燕姿出道20週年突開直播...鏡頭一轉是「正式演唱會」網全聽哭！', '康康娶小18歲嫩妻遭反對\\u3000提親前杭州買房「鄧麗君助攻」岳父終點頭', '謝和弦重返自由爽貼莉婭！\\u3000「謝謝余天」…親揭隔牆掉淚內幕', '小8吻戲發抖「糗變擺頭風扇」\\u3000狂親坤達20次才過關', '防彈V：因為太貴結帳時手都在抖！\\u3000名錶「售價曝光」韓網驚：根本超樸素價錢', '張立昂入浴戲羞喊「露腹部的毛好看」\\u3000關韶文伸手驗貨：一格一格的！', '鄭爽爆取代趙麗穎接拍電影版《花千骨》\\u3000粉絲全氣炸…灌爆微博！', '黃韻玲畢典開唱經典歌...製作人爆料：當年我們幹過不少壞事！', '《陳芊芊》現代番外篇甜爆！丁禹兮「穿女裝逗趙露思笑」被封寵妻狂魔', '已婚經紀公司老闆「狂追24歲正妹女星」！\\u3000藝人被逼到患憂鬱症…老闆妻反咬她勾引'], '消費': ['6月同志驕傲月！New Balance、Nike、adidas都有彩虹限定鞋'], '軍武': ['要價390億福特號航艦又故障？\\u3000無法連續彈射戰機5天', '29年如1日！解放軍空軍紀錄保持人退役\\u3000飛行時數達5290hrs'], '寵物動物': ['偷玩筆被戳頭訓話！\\u3000牠伸肥手狂揮反擊…意外曝「短處」', '感動愛貓排隊等飯！\\u3000回過神「盜版分身」快吃完嚇歪：你誰？', '不想睡覺！大爺貓「爬7階樓梯趴7次」假裝癱軟\\u3000爸猛彎腰快氣瘋'], '健康': ['紅蘿蔔吃太多會維生素A中毒\\u3000食藥署列「每日限量」：有7症狀當心了', '深蹲能延長壽命？這些眉角要注意\\u3000適合長者的5個日常「微運動」', '臺大雲林分院引進多針雙電極電燒微創治療\\u3000有機會根除中大型肝腫瘤', '撩、油讓人白眼！聊天只靠「1技巧」狂冒火花...默默偷走女生心', '分手還聯絡前任？她淡定揭5大理由「藏暗黑真相」…網爆氣：都是渣'], '大陸': ['太極掌門30秒慘敗！曾霸氣喊「我認真打，他們就要見閻王」\\u3000最新影片被挖出', '籲政院讓應屆畢業生先返台！陸委會稱轉達「教育部」：管理是不得已作法'], '新奇': ['月球離地球越來越遠！\\u3000土衛6遠離速度比預期高100倍'], '財經': ['台積電懶人包出爐！讀完秒懂「股東會4大重點」\\u3000董事長劉德音解說內容曝光', '金融資產評價有撐\\u3000開發金5月賺4.83億元\\u3000EPS為0.14元', '「我是因為張忠謀才買」聽完小股東發言…董事長劉德音妙答：我也這樣加入台積電！', '4大公股金控5月獲利下跌15%\\u3000業者憂海外放款成獲利新地雷'], '地方': ['雲林監理站職業駕駛關懷服務\\u3000專業諮詢讓駕駛人備感窩心', '做好事一起來\\u3000桃園2公益社團捐贈150台輪椅11個單位受惠', '快訊／高雄部分地區16日停水12小時\\u300055萬戶民眾快儲水！', '端午佳節關懷低收戶\\u3000台塑企業今年加贈抗菌防疫用品', '女友威脅分手！高雄男借100萬代考費找槍手考進中油…下場慘兮兮'], '旅遊': ['想吃趕快訂！全台大解封\\u30003大人氣Buffet餐廳6月假日訂位已9成滿']}\n"
     ]
    }
   ],
   "source": [
    "newsDataObj = {}\n",
    "\n",
    "for news in newsLists:\n",
    "    category = news.find('em').text\n",
    "    title = news.find('a').text\n",
    "    if category not in newsDataObj:\n",
    "        newsDataObj[category] = list()\n",
    "    \n",
    "    newsDataObj[category].append(title)\n",
    "   \n",
    "print('-------> 用 JSON 來儲存\\n\\n')\n",
    "print(newsDataObj)"
   ]
  },
  {
   "cell_type": "markdown",
   "metadata": {},
   "source": [
    "### ③ 哪一個類別的文章最多"
   ]
  },
  {
   "cell_type": "markdown",
   "metadata": {},
   "source": [
    "> [python中列表list、字典dict找最大值、最小值](https://blog.csdn.net/weixin_41770169/article/details/80816886)"
   ]
  },
  {
   "cell_type": "code",
   "execution_count": 45,
   "metadata": {
    "scrolled": true
   },
   "outputs": [
    {
     "name": "stdout",
     "output_type": "stream",
     "text": [
      "-------> 每個類別文章數\n",
      "{'國際': 8, '體育': 12, '男女': 1, '生活': 6, '社會': 11, '政治': 10, '時尚': 7, '網搜': 3, '影劇': 18, '消費': 1, '軍武': 2, '寵物動物': 3, '健康': 5, '大陸': 2, '新奇': 1, '財經': 4, '地方': 5, '旅遊': 1}\n",
      "\n",
      "\n",
      "\n",
      "-------> 最多文章的類別是 : 影劇, 文章數 : 18\n"
     ]
    }
   ],
   "source": [
    "newsCategoryCountObj = {}\n",
    "\n",
    "for news in newsLists:\n",
    "    category = news.find('em').text\n",
    "    if category not in newsCategoryCountObj:\n",
    "        newsCategoryCountObj[category] = list()\n",
    "        newsCategoryCountObj[category] = 0\n",
    "    \n",
    "    newsCategoryCountObj[category] = newsCategoryCountObj[category] + 1\n",
    "   \n",
    "print('-------> 每個類別文章數')\n",
    "print(newsCategoryCountObj)\n",
    "print('\\n\\n')\n",
    "key_max = max(newsCategoryCountObj, key=newsCategoryCountObj.get)\n",
    "print('-------> 最多文章的類別是 : %s, 文章數 : %d' %(key_max, newsCategoryCountObj[key_max]))\n",
    "\n"
   ]
  },
  {
   "cell_type": "code",
   "execution_count": null,
   "metadata": {},
   "outputs": [],
   "source": []
  }
 ],
 "metadata": {
  "kernelspec": {
   "display_name": "Python 3",
   "language": "python",
   "name": "python3"
  },
  "language_info": {
   "codemirror_mode": {
    "name": "ipython",
    "version": 3
   },
   "file_extension": ".py",
   "mimetype": "text/x-python",
   "name": "python",
   "nbconvert_exporter": "python",
   "pygments_lexer": "ipython3",
   "version": "3.6.8"
  }
 },
 "nbformat": 4,
 "nbformat_minor": 2
}
