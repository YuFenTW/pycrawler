{
 "cells": [
  {
   "cell_type": "markdown",
   "metadata": {},
   "source": [
    "# HTTP 動態網頁架構說明\n",
    "\n",
    "\n",
    "* 了解動態網頁的資料爬蟲策略\n",
    "* 知道非同步網頁載入機制（Ajax）\n",
    "* 學習兩種對應動態網頁爬蟲的的策略\n"
   ]
  },
  {
   "cell_type": "markdown",
   "metadata": {},
   "source": [
    "## 作業目標\n",
    "\n",
    "回答以下問題：\n",
    "\n",
    "1. 動態網頁跟靜態網頁的差別是什麼？原本靜態網頁的做法會產生什麼問題或是缺點？\n",
    "2. 還記得我們在 ETTODAY 靜態爬蟲實作練習中，有請大家完成一個題目「取出今天所有的發文」，但仔細看其實並沒有真的把當天所有的新聞都抓回來， 試著回答看看原因是什麼？及該如何檢查？\n"
   ]
  },
  {
   "cell_type": "markdown",
   "metadata": {},
   "source": [
    "### 1. 動態網頁跟靜態網頁的差別是什麼？原本靜態網頁的做法會產生什麼問題或是缺點？"
   ]
  },
  {
   "cell_type": "markdown",
   "metadata": {},
   "source": [
    "1. 動態網頁中有些內容是透過使用者與頁面的互動去呼叫 JS 產生，或 JS 中利用 AJAX 的方式去呼叫特定 API，然後後依據 API 回傳的資料再回填內容。\n",
    "   而靜態網頁的所有內容是在一開始連結時, 就一起全部下載下來並填入 HTML 中。\n",
    "2. 靜態網頁可以呈現內容有限, 而且使用者需一直切換頁面去觀看資料，無法針對使用者動作做即時反應。"
   ]
  },
  {
   "cell_type": "markdown",
   "metadata": {},
   "source": [
    "### 2. 還記得我們在 ETTODAY 靜態爬蟲實作練習中 (D12)，有請大家完成一個題目「取出今天所有的發文」，但仔細看其實並沒有真的把當天所有的新聞都抓回來， 試著回答看看原因是什麼？及該如何檢查？"
   ]
  },
  {
   "cell_type": "markdown",
   "metadata": {},
   "source": [
    "因為「取出今天所有的發文」的區塊的資料是採用類似圖片LAZY LOADING的方式，在頁面往下捲时，透過 JS 去偵測頁面是否已捲到頁尾，如果已到頁尾時，就會去利用 AJAX 的方去呼叫特定 API (https://www.ettoday.net/show_roll.php) 丟回其他資料。\n",
    "\n",
    "API ==> https://www.ettoday.net/show_roll.php\n",
    "POST 參數\n",
    "- offset: 1 (類似目前頁面)\n",
    "- tPage: 3 (JS 判斷到頁尾，AJAX 會呼叫幾次 API；比如這次是 3，就代表會呼叫 3 次，每次會叫出 10 筆資料 ==> 總共會調出 30 筆資料)\n",
    "- tFile: 20200615.xml (這可能是為了減少 DB 被呼叫的次數，預先將資料存成 XML 檔案；可能會依照資料更新，XML 也會跟著更新)\n",
    "- tOt: 0\n",
    "- tSi: 100\n",
    "- tAr: 0"
   ]
  },
  {
   "cell_type": "code",
   "execution_count": null,
   "metadata": {},
   "outputs": [],
   "source": []
  },
  {
   "cell_type": "code",
   "execution_count": null,
   "metadata": {},
   "outputs": [],
   "source": []
  }
 ],
 "metadata": {
  "kernelspec": {
   "display_name": "Python 3",
   "language": "python",
   "name": "python3"
  },
  "language_info": {
   "codemirror_mode": {
    "name": "ipython",
    "version": 3
   },
   "file_extension": ".py",
   "mimetype": "text/x-python",
   "name": "python",
   "nbconvert_exporter": "python",
   "pygments_lexer": "ipython3",
   "version": "3.6.8"
  }
 },
 "nbformat": 4,
 "nbformat_minor": 2
}
